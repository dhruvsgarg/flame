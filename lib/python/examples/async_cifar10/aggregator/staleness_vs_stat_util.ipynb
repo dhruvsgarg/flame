{
 "cells": [
  {
   "cell_type": "code",
   "execution_count": 66,
   "metadata": {},
   "outputs": [],
   "source": [
    "import re\n",
    "import matplotlib.pyplot as plt\n",
    "import seaborn as sns"
   ]
  },
  {
   "cell_type": "code",
   "execution_count": 67,
   "metadata": {},
   "outputs": [],
   "source": [
    "def get_staleness_vs_stat_utility(filename,staleness_thresh, utility_thresh, total_rounds):\n",
    "    agg_trainer_rate_pattern = r\".*agg ver: (\\d+), trainer ver: (\\d+),.*rate: ([\\d.]+),.*\"\n",
    "    specific_stop_pattern = rf\".*aggregation finished for round {total_rounds}.*\"\n",
    "\n",
    "    total_updates = 0\n",
    "    high_stale_high_util_updates = 0\n",
    "    staleness_and_rates = []\n",
    "    with open(filename, 'r') as file:\n",
    "        for line in file:\n",
    "            if re.search(agg_trainer_rate_pattern, line):\n",
    "                match = re.search(agg_trainer_rate_pattern, line)\n",
    "                agg_ver = int(match.group(1))\n",
    "                trainer_ver = int(match.group(2))\n",
    "                staleness = agg_ver - trainer_ver\n",
    "                rate = float(match.group(3))\n",
    "                total_updates += 1\n",
    "                # print(f\"{staleness} , {rate}\")\n",
    "                if staleness >= staleness_thresh and rate >= utility_thresh:\n",
    "                    high_stale_high_util_updates += 1\n",
    "                    staleness_and_rates.append((staleness, rate))\n",
    "                    # print(f\"{staleness} , {rate}\")\n",
    "\n",
    "            elif re.search(specific_stop_pattern, line):\n",
    "                break\n",
    "\n",
    "    return high_stale_high_util_updates / total_updates if total_updates > 0 else 0, staleness_and_rates\n",
    "    "
   ]
  },
  {
   "cell_type": "code",
   "execution_count": 68,
   "metadata": {},
   "outputs": [],
   "source": [
    "def violin_plot(data):\n",
    "    staleness_values = [item[0] for item in data]\n",
    "\n",
    "    # Create a violin plot\n",
    "    plt.figure(figsize=(8, 6))\n",
    "    sns.violinplot(y=staleness_values)\n",
    "    plt.title(\"Violin Plot of Staleness\")\n",
    "    plt.xlabel(\"Staleness\")\n",
    "    plt.show()"
   ]
  },
  {
   "cell_type": "code",
   "execution_count": 79,
   "metadata": {},
   "outputs": [
    {
     "name": "stdout",
     "output_type": "stream",
     "text": [
      "0.40396962374870554\n"
     ]
    }
   ],
   "source": []
  },
  {
   "cell_type": "code",
   "execution_count": 89,
   "metadata": {},
   "outputs": [
    {
     "name": "stdout",
     "output_type": "stream",
     "text": [
      "0.3996959915928539\n",
      "0.6929226957941558\n"
     ]
    }
   ],
   "source": [
    "# felix_agg_logs_alpha1 = 'dup_agg_sheph_29_10_16_54_alpha1_cifar_70acc_IAgg_ISel_clientNotify_50.log'\n",
    "\n",
    "\n",
    "# alpha 100\n",
    "oort_agg_logs_alpha100 = 'filtered2_oort_alpha100.log'\n",
    "\n",
    "ratio_oort, staleness_and_rates_oort = get_staleness_vs_stat_utility(oort_agg_logs_alpha100,2,0.55,2000)\n",
    "print(ratio_oort)\n",
    "\n",
    "felix_agg_logs_alpha100 = 'filtered2_felix_alpha100.log'\n",
    "ratio_felix, staleness_and_rates_felix = get_staleness_vs_stat_utility(felix_agg_logs_alpha100,2,0.55,2000)\n",
    "print(ratio_felix)\n",
    "# violin_plot(staleness_and_rates_felix)"
   ]
  },
  {
   "cell_type": "code",
   "execution_count": 88,
   "metadata": {},
   "outputs": [
    {
     "name": "stdout",
     "output_type": "stream",
     "text": [
      "0.4017765042979943\n",
      "0.6739772946993343\n"
     ]
    }
   ],
   "source": [
    "#alpha 10\n",
    "\n",
    "oort_agg_logs_alpha10 = 'filtered2_oort_alpha10.log'\n",
    "\n",
    "ratio_oort, staleness_and_rates_oort = get_staleness_vs_stat_utility(oort_agg_logs_alpha10,2,0.55,2000)\n",
    "print(ratio_oort)\n",
    "\n",
    "felix_agg_logs_alpha10 = 'filtered2_felix_alpha10.log'\n",
    "ratio_felix, staleness_and_rates_felix = get_staleness_vs_stat_utility(felix_agg_logs_alpha10,2,0.55,2000)\n",
    "print(ratio_felix)\n",
    "# violin_plot(staleness_and_rates_felix)"
   ]
  },
  {
   "cell_type": "code",
   "execution_count": 90,
   "metadata": {},
   "outputs": [
    {
     "name": "stdout",
     "output_type": "stream",
     "text": [
      "0.40396962374870554\n",
      "0.6698927543813759\n"
     ]
    }
   ],
   "source": [
    "# alpha 1\n",
    "\n",
    "oort_agg_logs_alpha1 = 'filtered2_oort_alpha1.log'\n",
    "\n",
    "ratio_oort, staleness_and_rates_oort = get_staleness_vs_stat_utility(oort_agg_logs_alpha1,2,0.55,2000)\n",
    "print(ratio_oort)\n",
    "\n",
    "felix_agg_logs_alpha1 = 'filtered2_felix_alpha1.log'\n",
    "ratio_felix, staleness_and_rates_felix = get_staleness_vs_stat_utility(felix_agg_logs_alpha1,2,0.55,2000)\n",
    "print(ratio_felix)\n",
    "# violin_plot(staleness_and_rates_felix)"
   ]
  },
  {
   "cell_type": "code",
   "execution_count": 91,
   "metadata": {},
   "outputs": [
    {
     "name": "stdout",
     "output_type": "stream",
     "text": [
      "0.40572294690428073\n",
      "0.6855162960706671\n"
     ]
    }
   ],
   "source": [
    "# alpha 0.1\n",
    "\n",
    "oort_agg_logs_alpha01 = 'filtered2_oort_alpha0.1.log'\n",
    "\n",
    "ratio_oort, staleness_and_rates_oort = get_staleness_vs_stat_utility(oort_agg_logs_alpha01,2,0.55,2000)\n",
    "print(ratio_oort)\n",
    "\n",
    "felix_agg_logs_alpha01 = 'filtered2_felix_alpha0.1.log'\n",
    "ratio_felix, staleness_and_rates_felix = get_staleness_vs_stat_utility(felix_agg_logs_alpha01,2,0.55,2000)\n",
    "print(ratio_felix)\n",
    "# violin_plot(staleness_and_rates_felix)"
   ]
  },
  {
   "cell_type": "code",
   "execution_count": null,
   "metadata": {},
   "outputs": [],
   "source": [
    "grep -E \\\n",
    "    -e \"aggregation finished for round (1[0-9]{3}|2000)\" \\\n",
    "    -e \"Received weights from [a-f0-9]+\" \\\n",
    "    -e \"received eval message .* from [a-f0-9]+\" \\\n",
    "    -e \"sending weights to [a-f0-9]+ with model_version: [0-9]+ for task: train\" \\\n",
    "    dup_agg_sheph_29_10_16_54_alpha1_cifar_70acc_IAgg_ISel_clientNotify_50.log > filtered_felix_alpha1.log\n",
    "grep -E \\\n",
    "    -e \"aggregation finished for round (1[0-9]{3}|2000)\" \\\n",
    "    -e \"Received weights from [a-f0-9]+\" \\\n",
    "    -e \"received eval message .* from [a-f0-9]+\" \\\n",
    "    -e \"sending weights to [a-f0-9]+ with model_version: [0-9]+ for task: train\" \\\n",
    "    dup_agg_jayne_29_10_17_12_alpha1_cifar_70acc_fedbuff_asyncoort_clientNotify_50.log > filtered_oort_alpha1.log\n",
    "\n",
    "grep -E \\\n",
    "    -e \"505f9fc483cf4df68a2409257b5fad7d3c580370, curr_end_utility:.*\" \\\n",
    "    -e \"aggregation finished for round.*\" \\\n",
    "    -e \"Updated new_state of end 505f9fc483cf4df68a2409257b5fad7d3c580370 in channel.*\" \\\n",
    "    agg_jayne_29_10_17_12_alpha1_cifar_70acc_fedbuff_asyncoort_clientNotify_50.log > filtered3_oort_alpha1.log\n",
    "\n",
    "grep -E \\\n",
    "    -e \"'505f9fc483cf4df68a2409257b5fad7d3c580370', 'utility':.*\" \\\n",
    "    -e \"aggregation finished for round.*\" \\\n",
    "    -e \"Updated new_state of end 505f9fc483cf4df68a2409257b5fad7d3c580370 in channel.*\" \\\n",
    "    agg_sheph_29_10_16_54_alpha1_cifar_70acc_IAgg_ISel_clientNotify_50.log > filtered3_felix_alpha1.log\n",
    "\n",
    "\n",
    "\n",
    "grep -E \\\n",
    "    -e \"505f9fc483cf4df68a2409257b5fad7d3c580370,\\ curr_end_utility:\" \\\n",
    "    agg_jayne_29_10_17_12_alpha1_cifar_70acc_fedbuff_asyncoort_clientNotify_50.log\n",
    "\n",
    "grep -E \\\n",
    "    -e \"agg ver: [0-9]+, trainer ver: [0-9]+,.*rate: [0-9.]+,.*\" \\\n",
    "    agg_jayne_29_10_17_12_alpha1_cifar_70acc_fedbuff_asyncoort_clientNotify_50.log > filtered2_oort_alpha1.log\n",
    "\n",
    "grep -E \\\n",
    "    -e \"agg ver: [0-9]+, trainer ver: [0-9]+,.*rate: [0-9.]+,.*\" \\\n",
    "    agg_jayne_29_10_23_14_alpha0.1_cifar_70acc_fedbuff_asyncoort_clientNotify_50.log > filtered2_oort_alpha0.1.log\n",
    "    \n",
    "\n",
    "grep -E \\\n",
    "    -e \"agg ver: [0-9]+, trainer ver: [0-9]+,.*rate: [0-9.]+,.*\" \\\n",
    "    agg_wash_30_10_11_22_alpha100_cifar_70acc_fedbuff_asyncoort_clientNotify_50.log > filtered2_oort_alpha100.log\n",
    "    \n",
    "\n",
    "grep -E \\\n",
    "    -e \"agg ver: [0-9]+, trainer ver: [0-9]+,.*rate: [0-9.]+,.*\" \\\n",
    "    agg_jayne_30_10_10_41_alpha10_cifar_70acc_fedbuff_asyncoort_clientNotify_50.log > filtered2_oort_alpha10.log\n",
    "    \n",
    "\n",
    "grep -E \\\n",
    "    -e \"agg ver: [0-9]+, trainer ver: [0-9]+,.*rate: [0-9.]+,.*\" \\\n",
    "    agg_sheph_29_10_16_54_alpha1_cifar_70acc_IAgg_ISel_clientNotify_50.log > filtered2_felix_alpha1.log\n",
    "\n",
    "grep -E \\\n",
    "    -e \"agg ver: [0-9]+, trainer ver: [0-9]+,.*rate: [0-9.]+,.*\" \\\n",
    "    agg_sheph_29_10_23_04_alpha10_cifar_70acc_IAgg_ISel_clientNotify_50.log > filtered2_felix_alpha10.log\n",
    "grep -E \\\n",
    "    -e \"agg ver: [0-9]+, trainer ver: [0-9]+,.*rate: [0-9.]+,.*\" \\\n",
    "    agg_wash_29_10_16_54_alpha0.1_cifar_70acc_IAgg_ISel_clientNotify_50.log > filtered2_felix_alpha0.1.log\n",
    "\n",
    "/home/dgarg39/flame/lib/python/examples/async_cifar10/aggregator/agg_wash_30_10_03_29_alpha100_cifar_70acc_IAgg_ISel_clientNotify_50.log\n",
    "\n",
    "grep -E \\\n",
    "    -e \"agg ver: [0-9]+, trainer ver: [0-9]+,.*rate: [0-9.]+,.*\" \\\n",
    "    agg_wash_30_10_03_29_alpha100_cifar_70acc_IAgg_ISel_clientNotify_50.log > filtered2_felix_alpha100.log\n",
    "\n",
    "\n",
    "grep -E \"sending weights to [a-f0-9]+ with model_version: [0-9]+ for task: train\" agg_jayne_29_10_17_12_alpha1_cifar_70acc_fedbuff_asyncoort_clientNotify_50.log > filtered4_oort_alpha1.log\n",
    "\n",
    "\n",
    "grep -E \"sending weights to [a-f0-9]+ with model_version: [0-9]+ for task: train\" agg_sheph_29_10_16_54_alpha1_cifar_70acc_IAgg_ISel_clientNotify_50.log > filtered4_felix_alpha1.log\n",
    "\n",
    "\n",
    "grep -E \"sending weights to [a-f0-9]+ with model_version: [0-9]+ for task: train\" agg_jayne_29_10_23_14_alpha0.1_cifar_70acc_fedbuff_asyncoort_clientNotify_50.log > filtered4_oort_alpha0.1.log\n",
    "\n",
    "grep -E \"sending weights to [a-f0-9]+ with model_version: [0-9]+ for task: train\"  agg_wash_29_10_16_54_alpha0.1_cifar_70acc_IAgg_ISel_clientNotify_50.log > filtered4_felix_alpha0.1.log\n",
    "\n",
    "grep -E \"sending weights to [a-f0-9]+ with model_version: [0-9]+ for task: train\" agg_wash_30_10_11_22_alpha100_cifar_70acc_fedbuff_asyncoort_clientNotify_50.log > filtered2_oort_alpha100.log > filtered4_oort_alpha100.log\n",
    "\n",
    "grep -E \"sending weights to [a-f0-9]+ with model_version: [0-9]+ for task: train\" agg_wash_30_10_03_29_alpha100_cifar_70acc_IAgg_ISel_clientNotify_50.log > filtered4_felix_alpha100.log\n",
    "\n",
    "grep -E \"sending weights to [a-f0-9]+ with model_version: [0-9]+ for task: train\" agg_jayne_30_10_10_41_alpha10_cifar_70acc_fedbuff_asyncoort_clientNotify_50.log > filtered4_oort_alpha10.log\n",
    "\n",
    "grep -E \"sending weights to [a-f0-9]+ with model_version: [0-9]+ for task: train\" agg_sheph_29_10_23_04_alpha10_cifar_70acc_IAgg_ISel_clientNotify_50.log > filtered4_felix_alpha10.log"
   ]
  }
 ],
 "metadata": {
  "kernelspec": {
   "display_name": "Python 3",
   "language": "python",
   "name": "python3"
  },
  "language_info": {
   "codemirror_mode": {
    "name": "ipython",
    "version": 3
   },
   "file_extension": ".py",
   "mimetype": "text/x-python",
   "name": "python",
   "nbconvert_exporter": "python",
   "pygments_lexer": "ipython3",
   "version": "3.9.19"
  }
 },
 "nbformat": 4,
 "nbformat_minor": 2
}
